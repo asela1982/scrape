{
 "cells": [
  {
   "cell_type": "code",
   "execution_count": 1,
   "metadata": {},
   "outputs": [],
   "source": [
    "# import libraries\n",
    "import pandas as pd\n",
    "import numpy as np\n",
    "from datetime import datetime\n",
    "import re\n",
    "import ast\n",
    "import glob"
   ]
  },
  {
   "cell_type": "code",
   "execution_count": 2,
   "metadata": {},
   "outputs": [],
   "source": [
    "# load all the csvs to a dataframe\n",
    "df = pd.concat([pd.read_csv(f, index_col=0) for f in glob.glob('../output/df*.csv')], ignore_index = True)"
   ]
  },
  {
   "cell_type": "code",
   "execution_count": 3,
   "metadata": {},
   "outputs": [
    {
     "name": "stdout",
     "output_type": "stream",
     "text": [
      "<class 'pandas.core.frame.DataFrame'>\n",
      "RangeIndex: 9674 entries, 0 to 9673\n",
      "Data columns (total 12 columns):\n",
      "HotelAddress               9674 non-null object\n",
      "HotelDetailedFacilities    9674 non-null object\n",
      "HotelGeoCoordinates        9674 non-null object\n",
      "HotelName                  9674 non-null object\n",
      "HotelPopularFacilities     9674 non-null object\n",
      "HotelPrices                9674 non-null object\n",
      "HotelReviewScore           8335 non-null float64\n",
      "HotelReviewText            6804 non-null object\n",
      "HotelReviews               6804 non-null object\n",
      "HotelSince                 9674 non-null object\n",
      "HotelStars                 1350 non-null object\n",
      "URL                        9674 non-null object\n",
      "dtypes: float64(1), object(11)\n",
      "memory usage: 907.0+ KB\n"
     ]
    }
   ],
   "source": [
    "df.info()"
   ]
  },
  {
   "cell_type": "markdown",
   "metadata": {},
   "source": [
    "** Generate geo-coordinates **"
   ]
  },
  {
   "cell_type": "code",
   "execution_count": 4,
   "metadata": {},
   "outputs": [],
   "source": [
    "def generate_lat(row):\n",
    "    lat1 = float(row.split(',')[1])\n",
    "    lat2 = float(row.split(',')[3])\n",
    "    lat = np.mean([lat1,lat2])\n",
    "    return lat\n",
    "    \n",
    "def generate_lon(row):\n",
    "    lon1 = float(row.split(',')[0])\n",
    "    lon2 = float(row.split(',')[2])\n",
    "    lon = np.mean([lon1,lon2])\n",
    "    \n",
    "    return lon"
   ]
  },
  {
   "cell_type": "code",
   "execution_count": 5,
   "metadata": {},
   "outputs": [],
   "source": [
    "df['Processed_HotelGeoCoordinates_lat']=df['HotelGeoCoordinates'].apply(generate_lat)\n",
    "df['Processed_HotelGeoCoordinates_lon']=df['HotelGeoCoordinates'].apply(generate_lon)"
   ]
  },
  {
   "cell_type": "markdown",
   "metadata": {},
   "source": [
    "** regex on HotelStars and HotelReviews **"
   ]
  },
  {
   "cell_type": "code",
   "execution_count": 6,
   "metadata": {},
   "outputs": [],
   "source": [
    "df['Processed_HotelStars'] = df['HotelStars'].str.extract('(\\d+)')\n",
    "df['Processed_HotelReviews'] = df['HotelReviews'].str.extract('(\\d+)')"
   ]
  },
  {
   "cell_type": "markdown",
   "metadata": {},
   "source": [
    "** regex to extract dates **"
   ]
  },
  {
   "cell_type": "code",
   "execution_count": 7,
   "metadata": {},
   "outputs": [],
   "source": [
    "def extract_date(row):\n",
    "    match = re.search(\"(Jan(uary)?|Feb(ruary)?|Mar(ch)?|Apr(il)?|May|Jun(e)?|Jul(y)?|Aug(ust)?|Sept(ember)?|Oct(ober)?|Nov(ember)?|Dec(ember)?)\\s+\\d{1,2},\\s+\\d{4}\", row)\n",
    "    extract = (match.group(0))\n",
    "    extract = extract.replace('Sept','Sep')\n",
    "    extract_date = datetime.strptime(extract, '%b %d, %Y')\n",
    "    return extract_date"
   ]
  },
  {
   "cell_type": "code",
   "execution_count": 8,
   "metadata": {},
   "outputs": [],
   "source": [
    "df['Processed_HotelSince']=df['HotelSince'].apply(extract_date)"
   ]
  },
  {
   "cell_type": "markdown",
   "metadata": {},
   "source": [
    "** number of facilities **"
   ]
  },
  {
   "cell_type": "code",
   "execution_count": 9,
   "metadata": {},
   "outputs": [],
   "source": [
    "def failities_main(row):\n",
    "    keys = len(ast.literal_eval(row))\n",
    "    return keys"
   ]
  },
  {
   "cell_type": "code",
   "execution_count": 10,
   "metadata": {},
   "outputs": [],
   "source": [
    "df[\"Proceesed_facilities_main_count\"] = df['HotelDetailedFacilities'].apply(failities_main)"
   ]
  },
  {
   "cell_type": "markdown",
   "metadata": {},
   "source": [
    "** process pricing details **"
   ]
  },
  {
   "cell_type": "code",
   "execution_count": 11,
   "metadata": {},
   "outputs": [],
   "source": [
    "def pricing_min(row): \n",
    "    list_min = ast.literal_eval(row)\n",
    "    list_min = [int(item.replace(\",\",\"\")) for item in list_min]\n",
    "    try:\n",
    "        value_min = min(list_min)\n",
    "    except:\n",
    "        value_min = np.nan\n",
    "    return value_min\n",
    "\n",
    "def pricing_max(row): \n",
    "    list_max = ast.literal_eval(row)\n",
    "    list_max = [int(item.replace(\",\",\"\")) for item in list_max]\n",
    "    try:\n",
    "        value_max = max(list_max)\n",
    "    except:\n",
    "        value_max = np.nan\n",
    "    return value_max\n",
    "\n",
    "def pricing_avg(row): \n",
    "    list_avg = ast.literal_eval(row)\n",
    "    list_avg = [int(item.replace(\",\",\"\")) for item in list_avg]\n",
    "    try:\n",
    "        value_avg = np.mean(list_avg)\n",
    "    except:\n",
    "        value_avg = np.nan\n",
    "    return value_avg"
   ]
  },
  {
   "cell_type": "code",
   "execution_count": 12,
   "metadata": {},
   "outputs": [
    {
     "name": "stderr",
     "output_type": "stream",
     "text": [
      "C:\\Users\\09472\\AppData\\Local\\Continuum\\anaconda3\\lib\\site-packages\\numpy\\core\\fromnumeric.py:2957: RuntimeWarning: Mean of empty slice.\n",
      "  out=out, **kwargs)\n"
     ]
    }
   ],
   "source": [
    "df['Proceesed_prices_min'] = df['HotelPrices'].apply(pricing_min)\n",
    "df['Proceesed_prices_max'] = df['HotelPrices'].apply(pricing_max)\n",
    "df['Proceesed_prices_avg'] = df['HotelPrices'].apply(pricing_avg)"
   ]
  },
  {
   "cell_type": "code",
   "execution_count": 13,
   "metadata": {},
   "outputs": [
    {
     "name": "stderr",
     "output_type": "stream",
     "text": [
      "C:\\Users\\09472\\AppData\\Local\\Continuum\\anaconda3\\lib\\site-packages\\ipykernel_launcher.py:3: FutureWarning: set_value is deprecated and will be removed in a future release. Please use .at[] or .iat[] accessors instead\n",
      "  This is separate from the ipykernel package so we can avoid doing imports until\n",
      "C:\\Users\\09472\\AppData\\Local\\Continuum\\anaconda3\\lib\\site-packages\\ipykernel_launcher.py:4: FutureWarning: set_value is deprecated and will be removed in a future release. Please use .at[] or .iat[] accessors instead\n",
      "  after removing the cwd from sys.path.\n",
      "C:\\Users\\09472\\AppData\\Local\\Continuum\\anaconda3\\lib\\site-packages\\ipykernel_launcher.py:10: FutureWarning: set_value is deprecated and will be removed in a future release. Please use .at[] or .iat[] accessors instead\n",
      "  # Remove the CWD from sys.path while we load stuff.\n",
      "C:\\Users\\09472\\AppData\\Local\\Continuum\\anaconda3\\lib\\site-packages\\ipykernel_launcher.py:11: FutureWarning: set_value is deprecated and will be removed in a future release. Please use .at[] or .iat[] accessors instead\n",
      "  # This is added back by InteractiveShellApp.init_path()\n",
      "C:\\Users\\09472\\AppData\\Local\\Continuum\\anaconda3\\lib\\site-packages\\ipykernel_launcher.py:7: FutureWarning: set_value is deprecated and will be removed in a future release. Please use .at[] or .iat[] accessors instead\n",
      "  import sys\n"
     ]
    }
   ],
   "source": [
    "for index, row in df.iterrows():\n",
    "    if row['HotelReviewText']=='Cleanliness':\n",
    "        df.set_value(index,'HotelReviewScore',np.nan)\n",
    "        df.set_value(index,'HotelReviewText',None)\n",
    "        \n",
    "    elif row['HotelReviewText']=='Review score':\n",
    "        df.set_value(index,'HotelReviewText','Not Yet Reviewed')\n",
    "        \n",
    "    elif pd.isnull(row['HotelReviewText']):\n",
    "        df.set_value(index,'HotelReviewScore',np.nan)\n",
    "        df.set_value(index,'HotelReviewText',None)"
   ]
  },
  {
   "cell_type": "code",
   "execution_count": 14,
   "metadata": {},
   "outputs": [],
   "source": [
    "df.to_csv('../output/main.csv')"
   ]
  }
 ],
 "metadata": {
  "kernelspec": {
   "display_name": "Python 3",
   "language": "python",
   "name": "python3"
  },
  "language_info": {
   "codemirror_mode": {
    "name": "ipython",
    "version": 3
   },
   "file_extension": ".py",
   "mimetype": "text/x-python",
   "name": "python",
   "nbconvert_exporter": "python",
   "pygments_lexer": "ipython3",
   "version": "3.6.5"
  }
 },
 "nbformat": 4,
 "nbformat_minor": 2
}
